{
 "cells": [
  {
   "cell_type": "markdown",
   "metadata": {},
   "source": [
    "## Methodology\n",
    "The process for conducting our research and modeling will follow the iterative OSEMiN pipeline. This entails obtaining, scrubbing, exploring, modeling, and interpreting the data. "
   ]
  },
  {
   "cell_type": "markdown",
   "metadata": {},
   "source": [
    "## Obtaining the Data\n",
    "\n",
    "Importing the data and any modules needed to understand it"
   ]
  },
  {
   "cell_type": "code",
   "execution_count": null,
   "metadata": {},
   "outputs": [],
   "source": [
    "import pandas as pd\n",
    "import matplotlib.pyplot as plt\n",
    "from matplotlib import pyplot\n",
    "%matplotlib inline\n",
    "import numpy as np\n",
    "import seaborn as sns\n",
    "\n",
    "from sklearn.metrics import plot_roc_curve\n",
    "from sklearn.preprocessing import OneHotEncoder\n",
    "from sklearn.preprocessing import StandardScaler\n",
    "from sklearn.compose import make_column_transformer\n",
    "from sklearn.model_selection import train_test_split\n",
    "from collections import Counter\n",
    "import imblearn\n",
    "from imblearn.over_sampling import RandomOverSampler\n",
    "from imblearn.under_sampling import RandomUnderSampler\n",
    "from imblearn.over_sampling import SMOTE\n",
    "from statsmodels.stats.outliers_influence import variance_inflation_factor\n",
    "from sklearn.linear_model import LogisticRegression\n",
    "from sklearn.metrics import confusion_matrix\n",
    "from sklearn.metrics import plot_confusion_matrix\n",
    "from sklearn.metrics import precision_score, recall_score, accuracy_score, f1_score\n",
    "from sklearn.metrics import roc_curve, auc\n",
    "from sklearn.datasets import make_classification\n",
    "from sklearn.model_selection import RepeatedStratifiedKFold\n",
    "from sklearn.model_selection import KFold\n",
    "from sklearn.feature_selection import RFE\n",
    "from sklearn.metrics import precision_score, recall_score, accuracy_score, f1_score\n",
    "from scipy import stats\n",
    "from math import log \n",
    "from sklearn.tree import DecisionTreeClassifier \n",
    "from sklearn.preprocessing import OneHotEncoder\n",
    "from sklearn import tree\n",
    "from sklearn.tree import DecisionTreeRegressor\n",
    "from sklearn.metrics import r2_score\n",
    "from sklearn.metrics import mean_absolute_error, mean_squared_error\n",
    "from sklearn.metrics import accuracy_score, confusion_matrix, classification_report\n",
    "from sklearn.tree import DecisionTreeClassifier\n",
    "from sklearn.ensemble import BaggingClassifier, RandomForestClassifier\n",
    "from sklearn.model_selection import train_test_split, GridSearchCV, cross_val_score\n",
    "from sklearn.ensemble import RandomForestClassifier, AdaBoostClassifier\n",
    "from sklearn.metrics import accuracy_score\n",
    "from sklearn.model_selection import train_test_split, cross_val_score\n",
    "from sklearn.ensemble import AdaBoostClassifier, GradientBoostingClassifier\n",
    "from sklearn.metrics import accuracy_score, f1_score, confusion_matrix, classification_report\n",
    "import xgboost as xgb \n",
    "from sklearn import svm\n",
    "from sklearn.svm import SVC\n",
    "import statsmodels as sm\n",
    "from sklearn.preprocessing import StandardScaler\n",
    "from sklearn.neighbors import KNeighborsClassifier\n",
    "from sklearn.model_selection import train_test_split, GridSearchCV\n",
    "from sklearn.ensemble import RandomForestClassifier\n",
    "from sklearn.pipeline import Pipeline\n",
    "from imblearn.over_sampling import SMOTE\n",
    "from imblearn.pipeline import Pipeline as imbPipeline\n",
    "from sklearn.compose import ColumnTransformer\n",
    "from sklearn.preprocessing import Normalizer\n",
    "from sklearn.impute import SimpleImputer\n",
    "from sklearn.dummy import DummyClassifier\n",
    "from sklearn.tree import DecisionTreeClassifier\n",
    "from sklearn.metrics import roc_curve, auc\n",
    "from sklearn.metrics import classification_report\n",
    "from xgboost import XGBClassifier, plot_importance\n",
    "\n",
    "plt.style.use('seaborn')\n",
    "\n",
    "import warnings\n",
    "warnings.filterwarnings('ignore')"
   ]
  },
  {
   "cell_type": "code",
   "execution_count": null,
   "metadata": {},
   "outputs": [],
   "source": []
  },
  {
   "cell_type": "code",
   "execution_count": null,
   "metadata": {},
   "outputs": [],
   "source": [
    "#open dataset\n",
    "df = pd.read_csv('bigml_59c28831336c6604c800002a.csv')\n",
    "df"
   ]
  },
  {
   "cell_type": "code",
   "execution_count": null,
   "metadata": {},
   "outputs": [],
   "source": [
    "#getting data info \n",
    "df.info()"
   ]
  },
  {
   "cell_type": "markdown",
   "metadata": {},
   "source": [
    "## Scrubbing the Data\n",
    "- Manage datatypes\n",
    "- Resolve missing/duplicate values."
   ]
  },
  {
   "cell_type": "code",
   "execution_count": null,
   "metadata": {},
   "outputs": [],
   "source": [
    "#checking null values\n",
    "df.isnull().sum()"
   ]
  },
  {
   "cell_type": "code",
   "execution_count": null,
   "metadata": {},
   "outputs": [],
   "source": [
    "#dropping duplicate rows \n",
    "df.drop_duplicates()"
   ]
  },
  {
   "cell_type": "code",
   "execution_count": null,
   "metadata": {},
   "outputs": [],
   "source": [
    "# Check out spread of data and outliers\n",
    "df.describe()"
   ]
  },
  {
   "cell_type": "markdown",
   "metadata": {},
   "source": [
    "## Exploring the Data\n",
    "- Find patterns among the relationships of variables in the dataset.  "
   ]
  },
  {
   "cell_type": "markdown",
   "metadata": {},
   "source": [
    "#### Exploring the Target variable: 'Churn'\n",
    "\n",
    "From the countplot below we can see that our target varibale is imablanced, this means that we will need to use SMOTE later. "
   ]
  },
  {
   "cell_type": "code",
   "execution_count": null,
   "metadata": {},
   "outputs": [],
   "source": [
    "# Check balance of target data \n",
    "sns.countplot(x='churn', data=df);\n",
    "df['churn'].value_counts()"
   ]
  },
  {
   "cell_type": "code",
   "execution_count": null,
   "metadata": {},
   "outputs": [],
   "source": [
    "# Check for nonsensical or placeholder values\n",
    "# We can see that DC is included at the 51st State\n",
    "for col in df.columns:\n",
    "    print(col)\n",
    "    print(df[col].unique())\n",
    "    print('\\n-----------------------------------------------\\n')\n"
   ]
  },
  {
   "cell_type": "code",
   "execution_count": null,
   "metadata": {},
   "outputs": [],
   "source": [
    "df.info()"
   ]
  },
  {
   "cell_type": "code",
   "execution_count": null,
   "metadata": {},
   "outputs": [],
   "source": [
    "#checking variable correlations \n",
    "corr = df.corr().abs()\n",
    "fig, ax=plt.subplots(figsize=(17,12))\n",
    "fig.suptitle('Variable Correlations', fontsize=40, y=.95, fontname='DejaVu Sans')\n",
    "heatmap = sns.heatmap(corr, cmap='Blues', annot=True)"
   ]
  },
  {
   "cell_type": "markdown",
   "metadata": {},
   "source": [
    "From this correlation map we can see that the charge columns are highly multicollinear with the minutes column. "
   ]
  },
  {
   "cell_type": "code",
   "execution_count": null,
   "metadata": {},
   "outputs": [],
   "source": [
    "#use seaborn pairplot\n",
    "#code is commented out to save time.  Pairplot will take a few minutes to run\n"
   ]
  },
  {
   "cell_type": "markdown",
   "metadata": {},
   "source": [
    "#### Dropping unneccasary columns\n",
    "\n",
    "For this project we are focused on the services and prices SyriaTel provides on the national level, so individual phone numbers and area codes are not necessary in this case. We also dropped the charge columns because they were multicollinear and added unnecessary noise to our dataset. "
   ]
  },
  {
   "cell_type": "code",
   "execution_count": null,
   "metadata": {},
   "outputs": [],
   "source": [
    "#removing white space from column names \n",
    "df.columns = df.columns.str.replace(' ', '_')\n",
    "#dropping charge columns \n",
    "df = df.drop([x for x in df.columns if x.endswith('_charge')],axis=1)\n",
    "#dropping phone number because it is basically a Unique ID which we do not need for this data set \n",
    "df.drop('phone_number', axis=1, inplace=True)\n",
    "df.drop('area_code', axis=1, inplace=True)\n",
    "df.head()"
   ]
  },
  {
   "cell_type": "markdown",
   "metadata": {},
   "source": [
    "#### Converting categorical data\n",
    "\n",
    "- state\n",
    "- international_plan \n",
    "- voice_mail_plan \n",
    "- churns  \n",
    "\n",
    "We need to convert these so that we may intepret the data. "
   ]
  },
  {
   "cell_type": "code",
   "execution_count": null,
   "metadata": {},
   "outputs": [],
   "source": [
    "#one hot encoding \n",
    "origin = df['state']\n",
    "origin_series = pd.Series(origin)\n",
    "df['state'] = origin_series.astype('category')\n",
    "df['state'] = df['state'].cat.codes\n",
    "df.head()"
   ]
  },
  {
   "cell_type": "code",
   "execution_count": null,
   "metadata": {},
   "outputs": [],
   "source": [
    "#Converting international_plan, voice_mail_plan, and churn to be 1 or 0 \n",
    "#1= yes/true 0= no/false\n",
    "df['international_plan'] = df['international_plan'].map(lambda x:1 if x == 'yes' else 0)\n",
    "df['voice_mail_plan'] = df['voice_mail_plan'].map(lambda x:1 if x == 'yes' else 0)\n",
    "df['churn'] = df['churn'].map(lambda x:1 if x == True else 0)\n",
    "\n",
    "df"
   ]
  },
  {
   "cell_type": "markdown",
   "metadata": {},
   "source": [
    "#### Define X and y\n",
    "\n",
    "- Target variable (y): 'churn'\n",
    "- Features (X): all othre columns"
   ]
  },
  {
   "cell_type": "code",
   "execution_count": null,
   "metadata": {},
   "outputs": [],
   "source": [
    "#Defining churn as our target (y)\n",
    "#Defining the rest of the columns as our features (X)\n",
    "y = df['churn']\n",
    "X = df.drop(columns='churn', axis=1)"
   ]
  },
  {
   "cell_type": "code",
   "execution_count": null,
   "metadata": {},
   "outputs": [],
   "source": [
    "df.info()"
   ]
  },
  {
   "cell_type": "markdown",
   "metadata": {},
   "source": [
    "#### Train Test Split "
   ]
  },
  {
   "cell_type": "code",
   "execution_count": null,
   "metadata": {},
   "outputs": [],
   "source": [
    "#setting up our train/test split\n",
    "#stratifying the data due to the large imablance in target classes \n",
    "X_train, X_test, y_train, y_test = train_test_split(X, y, random_state=56, stratify=y)\n",
    "# Check size of train and test sets\n",
    "print(len(X_train), len(X_test), len(y_train), len(y_test))"
   ]
  },
  {
   "cell_type": "markdown",
   "metadata": {},
   "source": [
    "## Modeling the Data\n",
    "- Create baseline model \n",
    "- Iterate through different models "
   ]
  },
  {
   "cell_type": "code",
   "execution_count": null,
   "metadata": {},
   "outputs": [],
   "source": [
    "class Model_test():\n",
    "    \n",
    "    '''\n",
    "    This class will be used to quickly test and save models for comparison\n",
    "    This class was modified from lecture: Classifican Workflow - Flatiron School - Greg Damico\n",
    "    \n",
    "    '''\n",
    "    \n",
    "    def __init__(self, mod_name, model, X, y, run_cv=True):\n",
    "        self.name = mod_name\n",
    "        self.model = model\n",
    "        self.X = X\n",
    "        self.y = y\n",
    "        #cross validation\n",
    "        self.cv_result = None\n",
    "        self.cv_mean = None\n",
    "        self.cv_median = None\n",
    "        self.cv_std = None\n",
    "        \n",
    "        if run_cv:\n",
    "            self.cross_val()\n",
    "        \n",
    "    def cross_val(self, X=None, y=None, kfolds=5):\n",
    "        '''\n",
    "        Perform cross validation on the model.\n",
    "        '''\n",
    "        #checks to see if user entered other values for X,y\n",
    "        cv_X = X if X else self.X \n",
    "        cv_y = y if y else self.y\n",
    "        \n",
    "        self.cv_results = cross_val_score(self.model,cv_X,cv_y,cv=kfolds)\n",
    "        self.cv_mean = np.mean(self.cv_results)\n",
    "        self.cv_std = np.std(self.cv_results)\n",
    "        self.cv_median = np.median(self.cv_results)\n",
    "    \n",
    "        \n",
    "    #display overall summary\n",
    "    def print_summary(self):\n",
    "        res_mean = round(self.cv_mean,4)\n",
    "        res_std = round(self.cv_std,4)\n",
    "        print('CV Results for {}\\n {} +- {} accuracy'.format(self.name,res_mean,res_std))\n",
    "        \n",
    "        #print precision, recall, f1\n",
    "        y_preds = self.model.predict(self.X)\n",
    "        prec = precision_score(self.y,y_preds,zero_division='warn')\n",
    "        rec = recall_score(self.y,y_preds,zero_division='warn') \n",
    "        f1s = f1_score(self.y,y_preds,zero_division='warn')\n",
    "        \n",
    "        print('\\n\\nPrecision:{}\\tRecall:{}\\tF1_Score:{}'.format(prec,rec,f1s))\n",
    "        \n",
    "        #plot roc_curve\n",
    "        print('\\nROC CURVE')\n",
    "        plot_roc_curve(self.model, self.X, self.y)\n",
    "        plt.show()\n",
    "        \n",
    "        #plot confusion matrix\n",
    "        print('\\nCONFUSION MATRIX')\n",
    "        plot_confusion_matrix(self.model,self.X, self.y,cmap='YlGnBu')\n",
    "        plt.show()\n",
    "   #returns the models recall score.  This is our chosen metric.      \n",
    "    def model_recall(self):\n",
    "        y_preds = self.model.predict(self.X)\n",
    "        return recall_score(self.y,y_preds,zero_division='warn') \n",
    "        \n",
    "        "
   ]
  },
  {
   "cell_type": "markdown",
   "metadata": {},
   "source": [
    "### Baseline Dummy Model \n",
    "We are creating a dummy model to serve as our baseline. This dummy model will pick most dominant class in our, in this case 'no churn' which occurs 85% of the time. This means the dummy model should have 85% accuracy. "
   ]
  },
  {
   "cell_type": "code",
   "execution_count": null,
   "metadata": {},
   "outputs": [],
   "source": [
    "dm = DummyClassifier(strategy='most_frequent')\n",
    "dm.fit(X_train, y_train)\n",
    "dm_result = Model_test('Dummy Model', dm, X_train, y_train)\n",
    "dm_result.print_summary()"
   ]
  },
  {
   "cell_type": "markdown",
   "metadata": {},
   "source": [
    "The AUC-ROC curve for our baseline dummy model should be a diagnol line from 0.0 to 0.1, this is because our dummy model should be no better than a 50/50 guess. Any AUC-ROS curve above the baseline curve indicates that it is performing better than the baseline. "
   ]
  },
  {
   "cell_type": "markdown",
   "metadata": {},
   "source": [
    "\n"
   ]
  },
  {
   "cell_type": "code",
   "execution_count": null,
   "metadata": {},
   "outputs": [],
   "source": [
    "dm_result.model_recall()"
   ]
  },
  {
   "cell_type": "code",
   "execution_count": null,
   "metadata": {},
   "outputs": [],
   "source": [
    "##create a dictionary to store results of tests\n",
    "model_dict = {}\n",
    "model_dict['baseline'] = dm_result.model_recall()\n",
    "model_dict"
   ]
  },
  {
   "cell_type": "markdown",
   "metadata": {},
   "source": [
    "#### Scaling the Data\n",
    "The data is being standardized since the features in the dataset have different ranges. "
   ]
  },
  {
   "cell_type": "code",
   "execution_count": null,
   "metadata": {},
   "outputs": [],
   "source": [
    "#Instantiate StandardScaler\n",
    "scaler = StandardScaler()\n",
    "\n",
    "#Transform X_train to scaled data set and fit the model with scaled X train data\n",
    "scaled_X_train = scaler.fit_transform(X_train)\n",
    "\n",
    "#Transform X_test to scaled data set\n",
    "scaled_X_test= scaler.transform(X_test)\n",
    "\n",
    "#Convert scaled data into a DataFrame\n",
    "scaled_X_train = pd.DataFrame(scaled_X_train,columns=X_train.columns)\n",
    "scaled_X_test = pd.DataFrame(scaled_X_test,columns=X_test.columns)"
   ]
  },
  {
   "cell_type": "markdown",
   "metadata": {},
   "source": [
    "#### SMOTENC - Synthetic Minority Over-sampling Technique for Nominal and Continuous\n",
    "From the above data we can see that there is a class imbalance in our target variable, 'churn', so we will use SMOTENC to synthesize data to level out the imbalance. Currently, we are 85% no churn and 15% churn.  We are using SMOTENC due to have binary columns. \n",
    "\n"
   ]
  },
  {
   "cell_type": "code",
   "execution_count": null,
   "metadata": {},
   "outputs": [],
   "source": [
    "from imblearn.over_sampling import SMOTE,SMOTENC\n",
    "# Create instance of smotec\n",
    "smote = SMOTENC(categorical_features=[0, 1, 2, 3], random_state=56)\n",
    "\n",
    "# Create resampled version of the train dataset\n",
    "resampled_X_train, resampled_y_train = smote.fit_resample(scaled_X_train, y_train)\n"
   ]
  },
  {
   "cell_type": "code",
   "execution_count": null,
   "metadata": {},
   "outputs": [],
   "source": [
    "#before smote\n",
    "print('Before Smote\\n', y_train.value_counts())\n",
    "\n",
    "#after smote\n",
    "print('\\nAfter Smote\\n', resampled_y_train.value_counts())"
   ]
  },
  {
   "cell_type": "markdown",
   "metadata": {},
   "source": [
    "### Logistic Regression Model \n",
    "\n",
    "Now that we have our baseline model we can begin trying out different models. "
   ]
  },
  {
   "cell_type": "code",
   "execution_count": null,
   "metadata": {},
   "outputs": [],
   "source": [
    "lr= LogisticRegression(random_state = 56)\n",
    "lr.fit(X_train,y_train)\n",
    "lr_result = Model_test('Logistic Regression', lr, X_train, y_train)\n",
    "lr_result.print_summary()"
   ]
  },
  {
   "cell_type": "code",
   "execution_count": null,
   "metadata": {},
   "outputs": [],
   "source": [
    "model_dict['logistic regression'] = lr_result.model_recall()\n",
    "model_dict"
   ]
  },
  {
   "cell_type": "markdown",
   "metadata": {},
   "source": [
    "### Logistic Regression Model with resampled and standardized data\n",
    "\n",
    "Let's run the logistic regression again on our resampled data. "
   ]
  },
  {
   "cell_type": "code",
   "execution_count": null,
   "metadata": {},
   "outputs": [],
   "source": [
    "lr.fit(resampled_X_train, resampled_y_train)\n",
    "lr_result_b = Model_test('Logistic Regression', lr, resampled_X_train, resampled_y_train)\n",
    "lr_result_b.print_summary()"
   ]
  },
  {
   "cell_type": "code",
   "execution_count": null,
   "metadata": {},
   "outputs": [],
   "source": [
    "model_dict['logistic regression balanced'] = lr_result_b.model_recall()\n",
    "model_dict"
   ]
  },
  {
   "cell_type": "markdown",
   "metadata": {},
   "source": [
    "By standardizing the data and dealing with our class imbalance using SMOTEC we can see the recall score has jumped from 0.06 with an accuracy of 0.85 to a recall score of 0.83 and an accuracy of 0.73. "
   ]
  },
  {
   "cell_type": "markdown",
   "metadata": {},
   "source": [
    "## Decision Tree"
   ]
  },
  {
   "cell_type": "code",
   "execution_count": null,
   "metadata": {},
   "outputs": [],
   "source": [
    "# Instantiate a DecisionTreeClassifier()\n",
    "dt= DecisionTreeClassifier(max_depth=3, random_state=56)"
   ]
  },
  {
   "cell_type": "code",
   "execution_count": null,
   "metadata": {},
   "outputs": [],
   "source": [
    "#running a decision tree on our imbalanced dataset\n",
    "dt.fit(X_train, y_train)\n",
    "dt_result= Model_test('Decision Tree', dt, X_train, y_train)\n",
    "dt_result.print_summary()"
   ]
  },
  {
   "cell_type": "code",
   "execution_count": null,
   "metadata": {},
   "outputs": [],
   "source": [
    "model_dict['decision tree'] = dt_result.model_recall()\n",
    "model_dict"
   ]
  },
  {
   "cell_type": "code",
   "execution_count": null,
   "metadata": {},
   "outputs": [],
   "source": [
    "#running a decision tree on our balanced dataset\n",
    "dt.fit(resampled_X_train, resampled_y_train)\n",
    "dt_result_b= Model_test('Decision Tree', dt, resampled_X_train, resampled_y_train)\n",
    "dt_result_b.print_summary()"
   ]
  },
  {
   "cell_type": "code",
   "execution_count": null,
   "metadata": {},
   "outputs": [],
   "source": [
    "model_dict['decision tree balanced'] = dt_result_b.model_recall()\n",
    "model_dict"
   ]
  },
  {
   "cell_type": "markdown",
   "metadata": {},
   "source": [
    "## Random Forest\n",
    "\n",
    "While our decision tree results were good they are prone to overfitting the data. Using a random forest model should help. Random Forest models help with overfitting by creating many trees. The ensemble of trees prevents the model from overfitting. "
   ]
  },
  {
   "cell_type": "code",
   "execution_count": null,
   "metadata": {},
   "outputs": [],
   "source": [
    "rf = RandomForestClassifier(random_state =56)\n",
    "#parameters for RandomForestClassifier\n",
    "params={'min_samples_leaf':[1,5,10],\n",
    "       'criterion':['gini','entropy'],\n",
    "        'max_depth':[7,10,13]}\n",
    "#create a GridSearchCV\n",
    "gs=GridSearchCV(estimator=rf,param_grid=params,cv=10,scoring=\"recall\")"
   ]
  },
  {
   "cell_type": "code",
   "execution_count": null,
   "metadata": {},
   "outputs": [],
   "source": [
    "#running a Random Forest on our imbalanced dataset\n",
    "gs.fit(X_train, y_train)\n",
    "rf_result= Model_test('Random Forest', gs, X_train, y_train)\n",
    "rf_result.print_summary()"
   ]
  },
  {
   "cell_type": "code",
   "execution_count": null,
   "metadata": {},
   "outputs": [],
   "source": [
    "model_dict['random forest'] = rf_result.model_recall()\n",
    "model_dict"
   ]
  },
  {
   "cell_type": "code",
   "execution_count": null,
   "metadata": {},
   "outputs": [],
   "source": [
    "#running a random forest on our balanced dataset\n",
    "gs.fit(resampled_X_train, resampled_y_train)\n",
    "rf_result_b= Model_test('Random Forest', gs, resampled_X_train, resampled_y_train)\n",
    "rf_result_b.print_summary()"
   ]
  },
  {
   "cell_type": "code",
   "execution_count": null,
   "metadata": {},
   "outputs": [],
   "source": [
    "model_dict['random forest balanced'] = rf_result_b.model_recall()\n",
    "model_dict"
   ]
  },
  {
   "cell_type": "markdown",
   "metadata": {},
   "source": [
    "## XG Boost Model"
   ]
  },
  {
   "cell_type": "code",
   "execution_count": 104,
   "metadata": {},
   "outputs": [],
   "source": [
    "from sklearn.model_selection import StratifiedKFold\n",
    "xg = XGBClassifier(random_state =56)\n",
    "#parameters for XGBClassified\n",
    "param_grid = {\n",
    "    'learning_rate': [0.1, 0.2],\n",
    "    'max_depth': [6],\n",
    "    'min_child_weight': [1, 2],\n",
    "    'subsample': [0.5, 0.7],\n",
    "    'n_estimators': [100],\n",
    "}\n",
    "\n",
    "#create a GridSearchCV\n",
    "gs_xg=GridSearchCV(xg, param_grid, scoring='recall', cv=None, n_jobs=1)"
   ]
  },
  {
   "cell_type": "code",
   "execution_count": 105,
   "metadata": {},
   "outputs": [
    {
     "name": "stdout",
     "output_type": "stream",
     "text": [
      "CV Results for Random Forest\n",
      " 0.6353 +- 0.0506 accuracy\n",
      "\n",
      "\n",
      "Precision:0.13430127041742287\tRecall:0.6132596685082873\tF1_Score:0.22034739454094293\n",
      "\n",
      "ROC CURVE\n"
     ]
    },
    {
     "data": {
      "image/png": "[encoded data removed]",
      "text/plain": [
       "<Figure size 576x396 with 1 Axes>"
      ]
     },
     "metadata": {},
     "output_type": "display_data"
    },
    {
     "name": "stdout",
     "output_type": "stream",
     "text": [
      "\n",
      "CONFUSION MATRIX\n"
     ]
    },
    {
     "data": {
      "image/png": "[encoded data removed]",
      "text/plain": [
       "<Figure size 576x396 with 2 Axes>"
      ]
     },
     "metadata": {},
     "output_type": "display_data"
    }
   ],
   "source": [
    "#running XG Boost Model on our imbalanced dataset\n",
    "gs_xg.fit(X_train, y_train)\n",
    "xg_result= Model_test('XG', gs_xg, X_train, y_train)\n",
    "rf_result.print_summary()"
   ]
  },
  {
   "cell_type": "code",
   "execution_count": 106,
   "metadata": {},
   "outputs": [
    {
     "data": {
      "text/plain": [
       "{'baseline': 0.0,\n",
       " 'logistic regression': 0.06629834254143646,\n",
       " 'logistic regression balanced': 0.7810014038371549,\n",
       " 'decision tree': 0.4116022099447514,\n",
       " 'decision tree balanced': 0.8058025269068788,\n",
       " 'random forest': 0.930939226519337,\n",
       " 'random forest balanced': 0.9873654656059897,\n",
       " 'XG': 0.9226519337016574,\n",
       " 'XG balanced': 0.9995320542817033}"
      ]
     },
     "execution_count": 106,
     "metadata": {},
     "output_type": "execute_result"
    }
   ],
   "source": [
    "model_dict['XG'] = xg_result.model_recall()\n",
    "model_dict"
   ]
  },
  {
   "cell_type": "code",
   "execution_count": 107,
   "metadata": {},
   "outputs": [
    {
     "name": "stdout",
     "output_type": "stream",
     "text": [
      "CV Results for XG balanced\n",
      " 0.9462 +- 0.0664 accuracy\n",
      "\n",
      "\n",
      "Precision:1.0\tRecall:0.9995320542817033\tF1_Score:0.9997659723847413\n",
      "\n",
      "ROC CURVE\n"
     ]
    },
    {
     "data": {
      "image/png": "[encoded data removed]",
      "text/plain": [
       "<Figure size 576x396 with 1 Axes>"
      ]
     },
     "metadata": {},
     "output_type": "display_data"
    },
    {
     "name": "stdout",
     "output_type": "stream",
     "text": [
      "\n",
      "CONFUSION MATRIX\n"
     ]
    },
    {
     "data": {
      "image/png": "[encoded data removed]",
      "text/plain": [
       "<Figure size 576x396 with 2 Axes>"
      ]
     },
     "metadata": {},
     "output_type": "display_data"
    }
   ],
   "source": [
    "#running XG Boost on our resampled data \n",
    "gs_xg.fit(resampled_X_train, resampled_y_train)\n",
    "xg_result_b= Model_test('XG balanced', gs_xg, resampled_X_train, resampled_y_train)\n",
    "xg_result_b.print_summary()"
   ]
  },
  {
   "cell_type": "code",
   "execution_count": 108,
   "metadata": {},
   "outputs": [
    {
     "data": {
      "text/plain": [
       "{'baseline': 0.0,\n",
       " 'logistic regression': 0.06629834254143646,\n",
       " 'logistic regression balanced': 0.7810014038371549,\n",
       " 'decision tree': 0.4116022099447514,\n",
       " 'decision tree balanced': 0.8058025269068788,\n",
       " 'random forest': 0.930939226519337,\n",
       " 'random forest balanced': 0.9873654656059897,\n",
       " 'XG': 0.9226519337016574,\n",
       " 'XG balanced': 0.9995320542817033}"
      ]
     },
     "execution_count": 108,
     "metadata": {},
     "output_type": "execute_result"
    }
   ],
   "source": [
    "model_dict['XG balanced'] = xg_result_b.model_recall()\n",
    "model_dict"
   ]
  },
  {
   "cell_type": "markdown",
   "metadata": {},
   "source": [
    "### Model results:\n",
    "\n",
    "As we can see from our model results our best performing model is our XG balanced model with a recall of 0.999 and our random forest balanced model with a recall of 0.987, \n"
   ]
  },
  {
   "cell_type": "code",
   "execution_count": 109,
   "metadata": {},
   "outputs": [
    {
     "data": {
      "image/png": "[encoded data removed]",
      "text/plain": [
       "<Figure size 576x432 with 1 Axes>"
      ]
     },
     "metadata": {},
     "output_type": "display_data"
    }
   ],
   "source": [
    "#sorting the recall results \n",
    "sorted_recall = sorted(model_dict.items(), key=lambda x:x[1])\n",
    "sorted_model_dict = dict(sorted_recall)\n",
    "\n",
    "#plot from model dict\n",
    "values = sorted_model_dict.values()\n",
    "models = [key for key in sorted_model_dict.keys()]\n",
    "models\n",
    "\n",
    "fig=plt.subplots(figsize=(8,6))\n",
    "plt.barh(range(len(sorted_model_dict)), values, tick_label=models, color='blue', height=0.2)\n",
    "plt.xlabel('Recall Score',fontsize =14)\n",
    "plt.ylabel('Model Name', fontsize=14)\n",
    "plt.title('RECALL SCORES', fontsize=22)\n",
    "plt.show()\n"
   ]
  },
  {
   "cell_type": "code",
   "execution_count": 110,
   "metadata": {},
   "outputs": [
    {
     "name": "stdout",
     "output_type": "stream",
     "text": [
      "CV Results for Random Forest\n",
      " 0.9162 +- 0.0327 accuracy\n",
      "\n",
      "\n",
      "Precision:0.9981078524124882\tRecall:0.9873654656059897\tF1_Score:0.9927075982121853\n",
      "\n",
      "ROC CURVE\n"
     ]
    },
    {
     "data": {
      "image/png": "[encoded data removed]",
      "text/plain": [
       "<Figure size 576x396 with 1 Axes>"
      ]
     },
     "metadata": {},
     "output_type": "display_data"
    },
    {
     "name": "stdout",
     "output_type": "stream",
     "text": [
      "\n",
      "CONFUSION MATRIX\n"
     ]
    },
    {
     "data": {
      "image/png": "[encoded data removed]",
      "text/plain": [
       "<Figure size 576x396 with 2 Axes>"
      ]
     },
     "metadata": {},
     "output_type": "display_data"
    }
   ],
   "source": [
    "rf_result_b.print_summary()"
   ]
  },
  {
   "cell_type": "markdown",
   "metadata": {},
   "source": [
    "Let's look at each model and compare how they performed. "
   ]
  },
  {
   "cell_type": "code",
   "execution_count": 111,
   "metadata": {},
   "outputs": [
    {
     "name": "stdout",
     "output_type": "stream",
     "text": [
      "CV Results for XG balanced\n",
      " 0.9462 +- 0.0664 accuracy\n",
      "\n",
      "\n",
      "Precision:1.0\tRecall:0.9995320542817033\tF1_Score:0.9997659723847413\n",
      "\n",
      "ROC CURVE\n"
     ]
    },
    {
     "data": {
      "image/png": "[encoded data removed]",
      "text/plain": [
       "<Figure size 576x396 with 1 Axes>"
      ]
     },
     "metadata": {},
     "output_type": "display_data"
    },
    {
     "name": "stdout",
     "output_type": "stream",
     "text": [
      "\n",
      "CONFUSION MATRIX\n"
     ]
    },
    {
     "data": {
      "image/png": "[encoded data removed]",
      "text/plain": [
       "<Figure size 576x396 with 2 Axes>"
      ]
     },
     "metadata": {},
     "output_type": "display_data"
    }
   ],
   "source": [
    "xg_result_b.print_summary()"
   ]
  },
  {
   "cell_type": "markdown",
   "metadata": {},
   "source": [
    "### Final Model on Test Data\n",
    "\n",
    "We will now use our final model of our hypertuned XG Boost model on our balanced dataset. \n"
   ]
  },
  {
   "cell_type": "code",
   "execution_count": null,
   "metadata": {},
   "outputs": [],
   "source": [
    "#running XG Boost on our resampled data test data\n",
    "gs_xg.fit(resampled_X_test, resampled_y_test)\n",
    "xg_result_b= Model_test('XG balanced', gs_xg, resampled_X_test, resampled_y_test)\n",
    "xg_result_b.print_summary()"
   ]
  },
  {
   "cell_type": "code",
   "execution_count": 118,
   "metadata": {},
   "outputs": [
    {
     "data": {
      "text/plain": [
       "<sklearn.metrics._plot.roc_curve.RocCurveDisplay at 0x1811086bf10>"
      ]
     },
     "execution_count": 118,
     "metadata": {},
     "output_type": "execute_result"
    },
    {
     "data": {
      "image/png": "[encoded data removed]",
      "text/plain": [
       "<Figure size 576x396 with 1 Axes>"
      ]
     },
     "metadata": {},
     "output_type": "display_data"
    }
   ],
   "source": [
    "#auc_roc\n",
    "plot_roc_curve(gs_xg, resampled_X_test, resampled_y_test)"
   ]
  },
  {
   "cell_type": "code",
   "execution_count": 122,
   "metadata": {},
   "outputs": [
    {
     "name": "stdout",
     "output_type": "stream",
     "text": [
      "Train Score: 0.7781937295273749\n",
      "Test Score: 1.0\n"
     ]
    }
   ],
   "source": [
    "print('Train Score:', gs_xg.score(resampled_X_train, resampled_y_train))\n",
    "print('Test Score:', gs_xg.score(resampled_X_test, resampled_y_test))"
   ]
  },
  {
   "cell_type": "markdown",
   "metadata": {},
   "source": [
    "## Interpreting the Data\n",
    "- Identify insights \n",
    "- Visualize findings"
   ]
  },
  {
   "cell_type": "markdown",
   "metadata": {},
   "source": [
    "### Feature Importance on Decision Tree Model \n",
    "\n",
    "By using scikit learns feature importance we can see what variables most impacted customer churn rate. "
   ]
  },
  {
   "cell_type": "code",
   "execution_count": null,
   "metadata": {},
   "outputs": [],
   "source": [
    "#Using feature importance \n",
    "feature_importances = dt_grid.feature_importances_\n",
    "\n",
    "# Create a list of features: done\n",
    "feature_list = list(resampled_X_train.columns)\n",
    "\n",
    "# Save the results inside a DataFrame using feature_list as an index\n",
    "relative_importances = pd.DataFrame(index=feature_list, data=feature_importances, columns=[\"importance\"])\n",
    "\n",
    "# Sort values to learn most important features\n",
    "relative_importances.sort_values(by=\"importance\", ascending=False)\n",
    "\n",
    "\n",
    "result = relative_importances.reset_index().sort_values('importance',ascending=False)\n",
    "\n",
    "#plot feature importances with sorted values\n",
    "sns.barplot(x='importance', y=\"index\", data=result, color='blue');"
   ]
  },
  {
   "cell_type": "markdown",
   "metadata": {},
   "source": []
  },
  {
   "cell_type": "markdown",
   "metadata": {},
   "source": [
    "The 3 most important features found were:\n",
    "- total_day_minutes \n",
    "- customer_service_calls \n",
    "- total_intl_calls "
   ]
  },
  {
   "cell_type": "code",
   "execution_count": null,
   "metadata": {},
   "outputs": [],
   "source": []
  },
  {
   "cell_type": "code",
   "execution_count": null,
   "metadata": {},
   "outputs": [],
   "source": []
  }
 ],
 "metadata": {
  "kernelspec": {
   "display_name": "Python (learn-env)",
   "language": "python",
   "name": "learn-env"
  },
  "language_info": {
   "codemirror_mode": {
    "name": "ipython",
    "version": 3
   },
   "file_extension": ".py",
   "mimetype": "text/x-python",
   "name": "python",
   "nbconvert_exporter": "python",
   "pygments_lexer": "ipython3",
   "version": "3.8.5"
  }
 },
 "nbformat": 4,
 "nbformat_minor": 4
}
